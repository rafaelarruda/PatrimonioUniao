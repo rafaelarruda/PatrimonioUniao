{
  "nbformat": 4,
  "nbformat_minor": 0,
  "metadata": {
    "colab": {
      "name": "Patrimonio da uniao.ipynb",
      "provenance": [],
      "collapsed_sections": [],
      "authorship_tag": "ABX9TyOjsZWMIfZZt4821lmEyZGv",
      "include_colab_link": true
    },
    "kernelspec": {
      "name": "python3",
      "display_name": "Python 3"
    },
    "language_info": {
      "name": "python"
    }
  },
  "cells": [
    {
      "cell_type": "markdown",
      "metadata": {
        "id": "view-in-github",
        "colab_type": "text"
      },
      "source": [
        "<a href=\"https://colab.research.google.com/github/rafaelarruda/PatrimonioUniao/blob/main/Patrimonio_da_uniao.ipynb\" target=\"_parent\"><img src=\"https://colab.research.google.com/assets/colab-badge.svg\" alt=\"Open In Colab\"/></a>"
      ]
    },
    {
      "cell_type": "markdown",
      "source": [
        "# Patrimônio da União"
      ],
      "metadata": {
        "id": "1iQjMaFYZQl5"
      }
    },
    {
      "cell_type": "markdown",
      "source": [
        "**URL: http://repositorio.dados.gov.br/seges/raio-x/patrimonio-uniao.csv**"
      ],
      "metadata": {
        "id": "QlfZ4UNVbSMJ"
      }
    },
    {
      "cell_type": "markdown",
      "source": [
        "**Esta seção se propõe a demonstrar, por meio de indicadores e gráficos, dados quantitativos e qualitativos dos imóveis de uso especial da União, ou seja, que se destinam à execução de serviços administrativos ou à prestação de serviços públicos em geral, tais como prédios de repartições públicas.**\n",
        "\n",
        "Os dados apresentados não incluem os chamados imóveis dominiais — que não são ocupados pela Administração Pública — mas sim cedidos a terceiros por meio de instrumentos de regularização fundiária, tais como aforamentos, Concessões de Direito Real de Uso (CDRU), e Concessão de Uso Especial para fins de Moradia (CUEM). Os dados apresentados não incluem os bens de uso comum do povo — aqueles necessários à coletividade como, por exemplo, os rios, as praças, as vias públicas e as praias."
      ],
      "metadata": {
        "id": "queq0sKWZXUJ"
      }
    },
    {
      "cell_type": "markdown",
      "source": [
        "**Alterações recentes**\n",
        "\n",
        "Atualizado em 24/09/2021"
      ],
      "metadata": {
        "id": "FH-T_XYdZ5Na"
      }
    },
    {
      "cell_type": "markdown",
      "source": [
        "# Imports"
      ],
      "metadata": {
        "id": "02V-Opp54926"
      }
    },
    {
      "cell_type": "code",
      "source": [
        "# Tratamento de dados\n",
        "import pandas as pd\n",
        "import statistics as sts\n",
        "import seaborn as srn\n",
        "import numpy as np"
      ],
      "metadata": {
        "id": "doRTZ_OxZ2Ev"
      },
      "execution_count": null,
      "outputs": []
    },
    {
      "cell_type": "markdown",
      "source": [
        "# Tratamento de dados"
      ],
      "metadata": {
        "id": "uD4miACM4nXz"
      }
    },
    {
      "cell_type": "markdown",
      "source": [
        "**Lendo e visualizando arquivos**"
      ],
      "metadata": {
        "id": "KJZCrkHAdNOr"
      }
    },
    {
      "cell_type": "code",
      "source": [
        "pat = pd.read_csv('patrimonio-uniao.csv')\n",
        "pat.head()"
      ],
      "metadata": {
        "colab": {
          "base_uri": "https://localhost:8080/",
          "height": 635
        },
        "id": "3d_D5VZEbmou",
        "outputId": "cbf81f29-92fd-41b4-d3de-d732d23a65eb"
      },
      "execution_count": null,
      "outputs": [
        {
          "output_type": "execute_result",
          "data": {
            "text/plain": [
              "   orgao_superior_codigo_siorg  \\\n",
              "0                           14   \n",
              "1                           14   \n",
              "2                           14   \n",
              "3                           14   \n",
              "4                           14   \n",
              "\n",
              "                                 orgao_superior_nome orgao_superior_sigla  \\\n",
              "0  MINISTÉRIO DA AGRICULTURA, PECUÁRIA E ABASTECI...                 MAPA   \n",
              "1  MINISTÉRIO DA AGRICULTURA, PECUÁRIA E ABASTECI...                 MAPA   \n",
              "2  MINISTÉRIO DA AGRICULTURA, PECUÁRIA E ABASTECI...                 MAPA   \n",
              "3  MINISTÉRIO DA AGRICULTURA, PECUÁRIA E ABASTECI...                 MAPA   \n",
              "4  MINISTÉRIO DA AGRICULTURA, PECUÁRIA E ABASTECI...                 MAPA   \n",
              "\n",
              "   orgao_codigo_siorg                                         orgao_nome  \\\n",
              "0                  14  MINISTÉRIO DA AGRICULTURA, PECUÁRIA E ABASTECI...   \n",
              "1                  14  MINISTÉRIO DA AGRICULTURA, PECUÁRIA E ABASTECI...   \n",
              "2                  14  MINISTÉRIO DA AGRICULTURA, PECUÁRIA E ABASTECI...   \n",
              "3                  14  MINISTÉRIO DA AGRICULTURA, PECUÁRIA E ABASTECI...   \n",
              "4                  14  MINISTÉRIO DA AGRICULTURA, PECUÁRIA E ABASTECI...   \n",
              "\n",
              "  orgao_sigla                           orgao_como_no_raiox_nome  \\\n",
              "0        MAPA  MINISTÉRIO DA AGRICULTURA, PECUÁRIA E ABASTECI...   \n",
              "1        MAPA  MINISTÉRIO DA AGRICULTURA, PECUÁRIA E ABASTECI...   \n",
              "2        MAPA  MINISTÉRIO DA AGRICULTURA, PECUÁRIA E ABASTECI...   \n",
              "3        MAPA  MINISTÉRIO DA AGRICULTURA, PECUÁRIA E ABASTECI...   \n",
              "4        MAPA  MINISTÉRIO DA AGRICULTURA, PECUÁRIA E ABASTECI...   \n",
              "\n",
              "  orgao_como_no_raiox_sigla  ano_mes_referencia  \\\n",
              "0                      MAPA              202203   \n",
              "1                      MAPA              202203   \n",
              "2                      MAPA              202203   \n",
              "3                      MAPA              202203   \n",
              "4                      MAPA              202203   \n",
              "\n",
              "                         regime_utilizacao    tipo_destinacao  \\\n",
              "0  CESSÃO - ADMINISTRAÇÃO FEDERAL INDIRETA              Porto   \n",
              "1                          CESSÃO - OUTROS  Edifício / Prédio   \n",
              "2                EM REGULARIZAÇÃO - CESSÃO            Açude     \n",
              "3                EM REGULARIZAÇÃO - CESSÃO            Açude     \n",
              "4                EM REGULARIZAÇÃO - CESSÃO  Edifício / Prédio   \n",
              "\n",
              "         tipo_imovel                                           endereco  \\\n",
              "0            Terreno  R REPUBLICA DO EQUADOR s/nº Confronta Com a Ru...   \n",
              "1               Casa                   ETA João Batista de Almeida s/n    \n",
              "2              Açude  FAZ Dona Justa (Pitomba) s/n Corpo Hídrico UHE...   \n",
              "3              Açude              RCH Manezim s/n UHE Cachoeira Dourada   \n",
              "4  Edifício / Prédio                            AV Antonio Bismark s/n    \n",
              "\n",
              "         municipio_nome  municipio_cod_ibge   uf  metro_quadrado_area  \\\n",
              "0                SANTOS             3548500  SP                956.75   \n",
              "1            DIAMANTINO             5103502  MT                820.00   \n",
              "2  MORADA NOVA DE MINAS             3143500  MG              52040.00   \n",
              "3     CACHOEIRA DOURADA             3109808  MG              37360.00   \n",
              "4               PRAINHA             1506005  PA               1200.00   \n",
              "\n",
              "   metro_quadrado_construida  valor_imovel  valor_aluguel  \n",
              "0                        NaN    3370000.00            0.0  \n",
              "1                      22.08      72796.98            0.0  \n",
              "2                        NaN      52040.00            0.0  \n",
              "3                        NaN      37360.00            0.0  \n",
              "4                     246.85      69790.05            0.0  "
            ],
            "text/html": [
              "\n",
              "  <div id=\"df-6bb6b9d6-cb7a-4169-aa14-d687bd58c0a6\">\n",
              "    <div class=\"colab-df-container\">\n",
              "      <div>\n",
              "<style scoped>\n",
              "    .dataframe tbody tr th:only-of-type {\n",
              "        vertical-align: middle;\n",
              "    }\n",
              "\n",
              "    .dataframe tbody tr th {\n",
              "        vertical-align: top;\n",
              "    }\n",
              "\n",
              "    .dataframe thead th {\n",
              "        text-align: right;\n",
              "    }\n",
              "</style>\n",
              "<table border=\"1\" class=\"dataframe\">\n",
              "  <thead>\n",
              "    <tr style=\"text-align: right;\">\n",
              "      <th></th>\n",
              "      <th>orgao_superior_codigo_siorg</th>\n",
              "      <th>orgao_superior_nome</th>\n",
              "      <th>orgao_superior_sigla</th>\n",
              "      <th>orgao_codigo_siorg</th>\n",
              "      <th>orgao_nome</th>\n",
              "      <th>orgao_sigla</th>\n",
              "      <th>orgao_como_no_raiox_nome</th>\n",
              "      <th>orgao_como_no_raiox_sigla</th>\n",
              "      <th>ano_mes_referencia</th>\n",
              "      <th>regime_utilizacao</th>\n",
              "      <th>tipo_destinacao</th>\n",
              "      <th>tipo_imovel</th>\n",
              "      <th>endereco</th>\n",
              "      <th>municipio_nome</th>\n",
              "      <th>municipio_cod_ibge</th>\n",
              "      <th>uf</th>\n",
              "      <th>metro_quadrado_area</th>\n",
              "      <th>metro_quadrado_construida</th>\n",
              "      <th>valor_imovel</th>\n",
              "      <th>valor_aluguel</th>\n",
              "    </tr>\n",
              "  </thead>\n",
              "  <tbody>\n",
              "    <tr>\n",
              "      <th>0</th>\n",
              "      <td>14</td>\n",
              "      <td>MINISTÉRIO DA AGRICULTURA, PECUÁRIA E ABASTECI...</td>\n",
              "      <td>MAPA</td>\n",
              "      <td>14</td>\n",
              "      <td>MINISTÉRIO DA AGRICULTURA, PECUÁRIA E ABASTECI...</td>\n",
              "      <td>MAPA</td>\n",
              "      <td>MINISTÉRIO DA AGRICULTURA, PECUÁRIA E ABASTECI...</td>\n",
              "      <td>MAPA</td>\n",
              "      <td>202203</td>\n",
              "      <td>CESSÃO - ADMINISTRAÇÃO FEDERAL INDIRETA</td>\n",
              "      <td>Porto</td>\n",
              "      <td>Terreno</td>\n",
              "      <td>R REPUBLICA DO EQUADOR s/nº Confronta Com a Ru...</td>\n",
              "      <td>SANTOS</td>\n",
              "      <td>3548500</td>\n",
              "      <td>SP</td>\n",
              "      <td>956.75</td>\n",
              "      <td>NaN</td>\n",
              "      <td>3370000.00</td>\n",
              "      <td>0.0</td>\n",
              "    </tr>\n",
              "    <tr>\n",
              "      <th>1</th>\n",
              "      <td>14</td>\n",
              "      <td>MINISTÉRIO DA AGRICULTURA, PECUÁRIA E ABASTECI...</td>\n",
              "      <td>MAPA</td>\n",
              "      <td>14</td>\n",
              "      <td>MINISTÉRIO DA AGRICULTURA, PECUÁRIA E ABASTECI...</td>\n",
              "      <td>MAPA</td>\n",
              "      <td>MINISTÉRIO DA AGRICULTURA, PECUÁRIA E ABASTECI...</td>\n",
              "      <td>MAPA</td>\n",
              "      <td>202203</td>\n",
              "      <td>CESSÃO - OUTROS</td>\n",
              "      <td>Edifício / Prédio</td>\n",
              "      <td>Casa</td>\n",
              "      <td>ETA João Batista de Almeida s/n</td>\n",
              "      <td>DIAMANTINO</td>\n",
              "      <td>5103502</td>\n",
              "      <td>MT</td>\n",
              "      <td>820.00</td>\n",
              "      <td>22.08</td>\n",
              "      <td>72796.98</td>\n",
              "      <td>0.0</td>\n",
              "    </tr>\n",
              "    <tr>\n",
              "      <th>2</th>\n",
              "      <td>14</td>\n",
              "      <td>MINISTÉRIO DA AGRICULTURA, PECUÁRIA E ABASTECI...</td>\n",
              "      <td>MAPA</td>\n",
              "      <td>14</td>\n",
              "      <td>MINISTÉRIO DA AGRICULTURA, PECUÁRIA E ABASTECI...</td>\n",
              "      <td>MAPA</td>\n",
              "      <td>MINISTÉRIO DA AGRICULTURA, PECUÁRIA E ABASTECI...</td>\n",
              "      <td>MAPA</td>\n",
              "      <td>202203</td>\n",
              "      <td>EM REGULARIZAÇÃO - CESSÃO</td>\n",
              "      <td>Açude</td>\n",
              "      <td>Açude</td>\n",
              "      <td>FAZ Dona Justa (Pitomba) s/n Corpo Hídrico UHE...</td>\n",
              "      <td>MORADA NOVA DE MINAS</td>\n",
              "      <td>3143500</td>\n",
              "      <td>MG</td>\n",
              "      <td>52040.00</td>\n",
              "      <td>NaN</td>\n",
              "      <td>52040.00</td>\n",
              "      <td>0.0</td>\n",
              "    </tr>\n",
              "    <tr>\n",
              "      <th>3</th>\n",
              "      <td>14</td>\n",
              "      <td>MINISTÉRIO DA AGRICULTURA, PECUÁRIA E ABASTECI...</td>\n",
              "      <td>MAPA</td>\n",
              "      <td>14</td>\n",
              "      <td>MINISTÉRIO DA AGRICULTURA, PECUÁRIA E ABASTECI...</td>\n",
              "      <td>MAPA</td>\n",
              "      <td>MINISTÉRIO DA AGRICULTURA, PECUÁRIA E ABASTECI...</td>\n",
              "      <td>MAPA</td>\n",
              "      <td>202203</td>\n",
              "      <td>EM REGULARIZAÇÃO - CESSÃO</td>\n",
              "      <td>Açude</td>\n",
              "      <td>Açude</td>\n",
              "      <td>RCH Manezim s/n UHE Cachoeira Dourada</td>\n",
              "      <td>CACHOEIRA DOURADA</td>\n",
              "      <td>3109808</td>\n",
              "      <td>MG</td>\n",
              "      <td>37360.00</td>\n",
              "      <td>NaN</td>\n",
              "      <td>37360.00</td>\n",
              "      <td>0.0</td>\n",
              "    </tr>\n",
              "    <tr>\n",
              "      <th>4</th>\n",
              "      <td>14</td>\n",
              "      <td>MINISTÉRIO DA AGRICULTURA, PECUÁRIA E ABASTECI...</td>\n",
              "      <td>MAPA</td>\n",
              "      <td>14</td>\n",
              "      <td>MINISTÉRIO DA AGRICULTURA, PECUÁRIA E ABASTECI...</td>\n",
              "      <td>MAPA</td>\n",
              "      <td>MINISTÉRIO DA AGRICULTURA, PECUÁRIA E ABASTECI...</td>\n",
              "      <td>MAPA</td>\n",
              "      <td>202203</td>\n",
              "      <td>EM REGULARIZAÇÃO - CESSÃO</td>\n",
              "      <td>Edifício / Prédio</td>\n",
              "      <td>Edifício / Prédio</td>\n",
              "      <td>AV Antonio Bismark s/n</td>\n",
              "      <td>PRAINHA</td>\n",
              "      <td>1506005</td>\n",
              "      <td>PA</td>\n",
              "      <td>1200.00</td>\n",
              "      <td>246.85</td>\n",
              "      <td>69790.05</td>\n",
              "      <td>0.0</td>\n",
              "    </tr>\n",
              "  </tbody>\n",
              "</table>\n",
              "</div>\n",
              "      <button class=\"colab-df-convert\" onclick=\"convertToInteractive('df-6bb6b9d6-cb7a-4169-aa14-d687bd58c0a6')\"\n",
              "              title=\"Convert this dataframe to an interactive table.\"\n",
              "              style=\"display:none;\">\n",
              "        \n",
              "  <svg xmlns=\"http://www.w3.org/2000/svg\" height=\"24px\"viewBox=\"0 0 24 24\"\n",
              "       width=\"24px\">\n",
              "    <path d=\"M0 0h24v24H0V0z\" fill=\"none\"/>\n",
              "    <path d=\"M18.56 5.44l.94 2.06.94-2.06 2.06-.94-2.06-.94-.94-2.06-.94 2.06-2.06.94zm-11 1L8.5 8.5l.94-2.06 2.06-.94-2.06-.94L8.5 2.5l-.94 2.06-2.06.94zm10 10l.94 2.06.94-2.06 2.06-.94-2.06-.94-.94-2.06-.94 2.06-2.06.94z\"/><path d=\"M17.41 7.96l-1.37-1.37c-.4-.4-.92-.59-1.43-.59-.52 0-1.04.2-1.43.59L10.3 9.45l-7.72 7.72c-.78.78-.78 2.05 0 2.83L4 21.41c.39.39.9.59 1.41.59.51 0 1.02-.2 1.41-.59l7.78-7.78 2.81-2.81c.8-.78.8-2.07 0-2.86zM5.41 20L4 18.59l7.72-7.72 1.47 1.35L5.41 20z\"/>\n",
              "  </svg>\n",
              "      </button>\n",
              "      \n",
              "  <style>\n",
              "    .colab-df-container {\n",
              "      display:flex;\n",
              "      flex-wrap:wrap;\n",
              "      gap: 12px;\n",
              "    }\n",
              "\n",
              "    .colab-df-convert {\n",
              "      background-color: #E8F0FE;\n",
              "      border: none;\n",
              "      border-radius: 50%;\n",
              "      cursor: pointer;\n",
              "      display: none;\n",
              "      fill: #1967D2;\n",
              "      height: 32px;\n",
              "      padding: 0 0 0 0;\n",
              "      width: 32px;\n",
              "    }\n",
              "\n",
              "    .colab-df-convert:hover {\n",
              "      background-color: #E2EBFA;\n",
              "      box-shadow: 0px 1px 2px rgba(60, 64, 67, 0.3), 0px 1px 3px 1px rgba(60, 64, 67, 0.15);\n",
              "      fill: #174EA6;\n",
              "    }\n",
              "\n",
              "    [theme=dark] .colab-df-convert {\n",
              "      background-color: #3B4455;\n",
              "      fill: #D2E3FC;\n",
              "    }\n",
              "\n",
              "    [theme=dark] .colab-df-convert:hover {\n",
              "      background-color: #434B5C;\n",
              "      box-shadow: 0px 1px 3px 1px rgba(0, 0, 0, 0.15);\n",
              "      filter: drop-shadow(0px 1px 2px rgba(0, 0, 0, 0.3));\n",
              "      fill: #FFFFFF;\n",
              "    }\n",
              "  </style>\n",
              "\n",
              "      <script>\n",
              "        const buttonEl =\n",
              "          document.querySelector('#df-6bb6b9d6-cb7a-4169-aa14-d687bd58c0a6 button.colab-df-convert');\n",
              "        buttonEl.style.display =\n",
              "          google.colab.kernel.accessAllowed ? 'block' : 'none';\n",
              "\n",
              "        async function convertToInteractive(key) {\n",
              "          const element = document.querySelector('#df-6bb6b9d6-cb7a-4169-aa14-d687bd58c0a6');\n",
              "          const dataTable =\n",
              "            await google.colab.kernel.invokeFunction('convertToInteractive',\n",
              "                                                     [key], {});\n",
              "          if (!dataTable) return;\n",
              "\n",
              "          const docLinkHtml = 'Like what you see? Visit the ' +\n",
              "            '<a target=\"_blank\" href=https://colab.research.google.com/notebooks/data_table.ipynb>data table notebook</a>'\n",
              "            + ' to learn more about interactive tables.';\n",
              "          element.innerHTML = '';\n",
              "          dataTable['output_type'] = 'display_data';\n",
              "          await google.colab.output.renderOutput(dataTable, element);\n",
              "          const docLink = document.createElement('div');\n",
              "          docLink.innerHTML = docLinkHtml;\n",
              "          element.appendChild(docLink);\n",
              "        }\n",
              "      </script>\n",
              "    </div>\n",
              "  </div>\n",
              "  "
            ]
          },
          "metadata": {},
          "execution_count": 72
        }
      ]
    },
    {
      "cell_type": "markdown",
      "source": [
        "**Excluir as colunas por nome**"
      ],
      "metadata": {
        "id": "ej5v3QZfiPLu"
      }
    },
    {
      "cell_type": "code",
      "source": [
        "pat.drop('tipo_imovel',axis=1, inplace=True)"
      ],
      "metadata": {
        "id": "noTPYFYkiM0R"
      },
      "execution_count": null,
      "outputs": []
    },
    {
      "cell_type": "code",
      "source": [
        "pat.head()"
      ],
      "metadata": {
        "colab": {
          "base_uri": "https://localhost:8080/",
          "height": 635
        },
        "id": "YFUQC9VXjTt-",
        "outputId": "9f870021-3cab-4a5f-a32d-e243e12a04d6"
      },
      "execution_count": null,
      "outputs": [
        {
          "output_type": "execute_result",
          "data": {
            "text/plain": [
              "   orgao_superior_codigo_siorg  \\\n",
              "0                           14   \n",
              "1                           14   \n",
              "2                           14   \n",
              "3                           14   \n",
              "4                           14   \n",
              "\n",
              "                                 orgao_superior_nome orgao_superior_sigla  \\\n",
              "0  MINISTÉRIO DA AGRICULTURA, PECUÁRIA E ABASTECI...                 MAPA   \n",
              "1  MINISTÉRIO DA AGRICULTURA, PECUÁRIA E ABASTECI...                 MAPA   \n",
              "2  MINISTÉRIO DA AGRICULTURA, PECUÁRIA E ABASTECI...                 MAPA   \n",
              "3  MINISTÉRIO DA AGRICULTURA, PECUÁRIA E ABASTECI...                 MAPA   \n",
              "4  MINISTÉRIO DA AGRICULTURA, PECUÁRIA E ABASTECI...                 MAPA   \n",
              "\n",
              "   orgao_codigo_siorg                                         orgao_nome  \\\n",
              "0                  14  MINISTÉRIO DA AGRICULTURA, PECUÁRIA E ABASTECI...   \n",
              "1                  14  MINISTÉRIO DA AGRICULTURA, PECUÁRIA E ABASTECI...   \n",
              "2                  14  MINISTÉRIO DA AGRICULTURA, PECUÁRIA E ABASTECI...   \n",
              "3                  14  MINISTÉRIO DA AGRICULTURA, PECUÁRIA E ABASTECI...   \n",
              "4                  14  MINISTÉRIO DA AGRICULTURA, PECUÁRIA E ABASTECI...   \n",
              "\n",
              "  orgao_sigla                           orgao_como_no_raiox_nome  \\\n",
              "0        MAPA  MINISTÉRIO DA AGRICULTURA, PECUÁRIA E ABASTECI...   \n",
              "1        MAPA  MINISTÉRIO DA AGRICULTURA, PECUÁRIA E ABASTECI...   \n",
              "2        MAPA  MINISTÉRIO DA AGRICULTURA, PECUÁRIA E ABASTECI...   \n",
              "3        MAPA  MINISTÉRIO DA AGRICULTURA, PECUÁRIA E ABASTECI...   \n",
              "4        MAPA  MINISTÉRIO DA AGRICULTURA, PECUÁRIA E ABASTECI...   \n",
              "\n",
              "  orgao_como_no_raiox_sigla  ano_mes_referencia  \\\n",
              "0                      MAPA              202203   \n",
              "1                      MAPA              202203   \n",
              "2                      MAPA              202203   \n",
              "3                      MAPA              202203   \n",
              "4                      MAPA              202203   \n",
              "\n",
              "                         regime_utilizacao    tipo_destinacao  \\\n",
              "0  CESSÃO - ADMINISTRAÇÃO FEDERAL INDIRETA              Porto   \n",
              "1                          CESSÃO - OUTROS  Edifício / Prédio   \n",
              "2                EM REGULARIZAÇÃO - CESSÃO            Açude     \n",
              "3                EM REGULARIZAÇÃO - CESSÃO            Açude     \n",
              "4                EM REGULARIZAÇÃO - CESSÃO  Edifício / Prédio   \n",
              "\n",
              "                                            endereco        municipio_nome  \\\n",
              "0  R REPUBLICA DO EQUADOR s/nº Confronta Com a Ru...                SANTOS   \n",
              "1                   ETA João Batista de Almeida s/n             DIAMANTINO   \n",
              "2  FAZ Dona Justa (Pitomba) s/n Corpo Hídrico UHE...  MORADA NOVA DE MINAS   \n",
              "3              RCH Manezim s/n UHE Cachoeira Dourada     CACHOEIRA DOURADA   \n",
              "4                            AV Antonio Bismark s/n                PRAINHA   \n",
              "\n",
              "   municipio_cod_ibge   uf  metro_quadrado_area  metro_quadrado_construida  \\\n",
              "0             3548500  SP                956.75                        NaN   \n",
              "1             5103502  MT                820.00                      22.08   \n",
              "2             3143500  MG              52040.00                        NaN   \n",
              "3             3109808  MG              37360.00                        NaN   \n",
              "4             1506005  PA               1200.00                     246.85   \n",
              "\n",
              "   valor_imovel  valor_aluguel  \n",
              "0    3370000.00            0.0  \n",
              "1      72796.98            0.0  \n",
              "2      52040.00            0.0  \n",
              "3      37360.00            0.0  \n",
              "4      69790.05            0.0  "
            ],
            "text/html": [
              "\n",
              "  <div id=\"df-d3681c5b-f798-4dcf-b8f2-170ee07aeed5\">\n",
              "    <div class=\"colab-df-container\">\n",
              "      <div>\n",
              "<style scoped>\n",
              "    .dataframe tbody tr th:only-of-type {\n",
              "        vertical-align: middle;\n",
              "    }\n",
              "\n",
              "    .dataframe tbody tr th {\n",
              "        vertical-align: top;\n",
              "    }\n",
              "\n",
              "    .dataframe thead th {\n",
              "        text-align: right;\n",
              "    }\n",
              "</style>\n",
              "<table border=\"1\" class=\"dataframe\">\n",
              "  <thead>\n",
              "    <tr style=\"text-align: right;\">\n",
              "      <th></th>\n",
              "      <th>orgao_superior_codigo_siorg</th>\n",
              "      <th>orgao_superior_nome</th>\n",
              "      <th>orgao_superior_sigla</th>\n",
              "      <th>orgao_codigo_siorg</th>\n",
              "      <th>orgao_nome</th>\n",
              "      <th>orgao_sigla</th>\n",
              "      <th>orgao_como_no_raiox_nome</th>\n",
              "      <th>orgao_como_no_raiox_sigla</th>\n",
              "      <th>ano_mes_referencia</th>\n",
              "      <th>regime_utilizacao</th>\n",
              "      <th>tipo_destinacao</th>\n",
              "      <th>endereco</th>\n",
              "      <th>municipio_nome</th>\n",
              "      <th>municipio_cod_ibge</th>\n",
              "      <th>uf</th>\n",
              "      <th>metro_quadrado_area</th>\n",
              "      <th>metro_quadrado_construida</th>\n",
              "      <th>valor_imovel</th>\n",
              "      <th>valor_aluguel</th>\n",
              "    </tr>\n",
              "  </thead>\n",
              "  <tbody>\n",
              "    <tr>\n",
              "      <th>0</th>\n",
              "      <td>14</td>\n",
              "      <td>MINISTÉRIO DA AGRICULTURA, PECUÁRIA E ABASTECI...</td>\n",
              "      <td>MAPA</td>\n",
              "      <td>14</td>\n",
              "      <td>MINISTÉRIO DA AGRICULTURA, PECUÁRIA E ABASTECI...</td>\n",
              "      <td>MAPA</td>\n",
              "      <td>MINISTÉRIO DA AGRICULTURA, PECUÁRIA E ABASTECI...</td>\n",
              "      <td>MAPA</td>\n",
              "      <td>202203</td>\n",
              "      <td>CESSÃO - ADMINISTRAÇÃO FEDERAL INDIRETA</td>\n",
              "      <td>Porto</td>\n",
              "      <td>R REPUBLICA DO EQUADOR s/nº Confronta Com a Ru...</td>\n",
              "      <td>SANTOS</td>\n",
              "      <td>3548500</td>\n",
              "      <td>SP</td>\n",
              "      <td>956.75</td>\n",
              "      <td>NaN</td>\n",
              "      <td>3370000.00</td>\n",
              "      <td>0.0</td>\n",
              "    </tr>\n",
              "    <tr>\n",
              "      <th>1</th>\n",
              "      <td>14</td>\n",
              "      <td>MINISTÉRIO DA AGRICULTURA, PECUÁRIA E ABASTECI...</td>\n",
              "      <td>MAPA</td>\n",
              "      <td>14</td>\n",
              "      <td>MINISTÉRIO DA AGRICULTURA, PECUÁRIA E ABASTECI...</td>\n",
              "      <td>MAPA</td>\n",
              "      <td>MINISTÉRIO DA AGRICULTURA, PECUÁRIA E ABASTECI...</td>\n",
              "      <td>MAPA</td>\n",
              "      <td>202203</td>\n",
              "      <td>CESSÃO - OUTROS</td>\n",
              "      <td>Edifício / Prédio</td>\n",
              "      <td>ETA João Batista de Almeida s/n</td>\n",
              "      <td>DIAMANTINO</td>\n",
              "      <td>5103502</td>\n",
              "      <td>MT</td>\n",
              "      <td>820.00</td>\n",
              "      <td>22.08</td>\n",
              "      <td>72796.98</td>\n",
              "      <td>0.0</td>\n",
              "    </tr>\n",
              "    <tr>\n",
              "      <th>2</th>\n",
              "      <td>14</td>\n",
              "      <td>MINISTÉRIO DA AGRICULTURA, PECUÁRIA E ABASTECI...</td>\n",
              "      <td>MAPA</td>\n",
              "      <td>14</td>\n",
              "      <td>MINISTÉRIO DA AGRICULTURA, PECUÁRIA E ABASTECI...</td>\n",
              "      <td>MAPA</td>\n",
              "      <td>MINISTÉRIO DA AGRICULTURA, PECUÁRIA E ABASTECI...</td>\n",
              "      <td>MAPA</td>\n",
              "      <td>202203</td>\n",
              "      <td>EM REGULARIZAÇÃO - CESSÃO</td>\n",
              "      <td>Açude</td>\n",
              "      <td>FAZ Dona Justa (Pitomba) s/n Corpo Hídrico UHE...</td>\n",
              "      <td>MORADA NOVA DE MINAS</td>\n",
              "      <td>3143500</td>\n",
              "      <td>MG</td>\n",
              "      <td>52040.00</td>\n",
              "      <td>NaN</td>\n",
              "      <td>52040.00</td>\n",
              "      <td>0.0</td>\n",
              "    </tr>\n",
              "    <tr>\n",
              "      <th>3</th>\n",
              "      <td>14</td>\n",
              "      <td>MINISTÉRIO DA AGRICULTURA, PECUÁRIA E ABASTECI...</td>\n",
              "      <td>MAPA</td>\n",
              "      <td>14</td>\n",
              "      <td>MINISTÉRIO DA AGRICULTURA, PECUÁRIA E ABASTECI...</td>\n",
              "      <td>MAPA</td>\n",
              "      <td>MINISTÉRIO DA AGRICULTURA, PECUÁRIA E ABASTECI...</td>\n",
              "      <td>MAPA</td>\n",
              "      <td>202203</td>\n",
              "      <td>EM REGULARIZAÇÃO - CESSÃO</td>\n",
              "      <td>Açude</td>\n",
              "      <td>RCH Manezim s/n UHE Cachoeira Dourada</td>\n",
              "      <td>CACHOEIRA DOURADA</td>\n",
              "      <td>3109808</td>\n",
              "      <td>MG</td>\n",
              "      <td>37360.00</td>\n",
              "      <td>NaN</td>\n",
              "      <td>37360.00</td>\n",
              "      <td>0.0</td>\n",
              "    </tr>\n",
              "    <tr>\n",
              "      <th>4</th>\n",
              "      <td>14</td>\n",
              "      <td>MINISTÉRIO DA AGRICULTURA, PECUÁRIA E ABASTECI...</td>\n",
              "      <td>MAPA</td>\n",
              "      <td>14</td>\n",
              "      <td>MINISTÉRIO DA AGRICULTURA, PECUÁRIA E ABASTECI...</td>\n",
              "      <td>MAPA</td>\n",
              "      <td>MINISTÉRIO DA AGRICULTURA, PECUÁRIA E ABASTECI...</td>\n",
              "      <td>MAPA</td>\n",
              "      <td>202203</td>\n",
              "      <td>EM REGULARIZAÇÃO - CESSÃO</td>\n",
              "      <td>Edifício / Prédio</td>\n",
              "      <td>AV Antonio Bismark s/n</td>\n",
              "      <td>PRAINHA</td>\n",
              "      <td>1506005</td>\n",
              "      <td>PA</td>\n",
              "      <td>1200.00</td>\n",
              "      <td>246.85</td>\n",
              "      <td>69790.05</td>\n",
              "      <td>0.0</td>\n",
              "    </tr>\n",
              "  </tbody>\n",
              "</table>\n",
              "</div>\n",
              "      <button class=\"colab-df-convert\" onclick=\"convertToInteractive('df-d3681c5b-f798-4dcf-b8f2-170ee07aeed5')\"\n",
              "              title=\"Convert this dataframe to an interactive table.\"\n",
              "              style=\"display:none;\">\n",
              "        \n",
              "  <svg xmlns=\"http://www.w3.org/2000/svg\" height=\"24px\"viewBox=\"0 0 24 24\"\n",
              "       width=\"24px\">\n",
              "    <path d=\"M0 0h24v24H0V0z\" fill=\"none\"/>\n",
              "    <path d=\"M18.56 5.44l.94 2.06.94-2.06 2.06-.94-2.06-.94-.94-2.06-.94 2.06-2.06.94zm-11 1L8.5 8.5l.94-2.06 2.06-.94-2.06-.94L8.5 2.5l-.94 2.06-2.06.94zm10 10l.94 2.06.94-2.06 2.06-.94-2.06-.94-.94-2.06-.94 2.06-2.06.94z\"/><path d=\"M17.41 7.96l-1.37-1.37c-.4-.4-.92-.59-1.43-.59-.52 0-1.04.2-1.43.59L10.3 9.45l-7.72 7.72c-.78.78-.78 2.05 0 2.83L4 21.41c.39.39.9.59 1.41.59.51 0 1.02-.2 1.41-.59l7.78-7.78 2.81-2.81c.8-.78.8-2.07 0-2.86zM5.41 20L4 18.59l7.72-7.72 1.47 1.35L5.41 20z\"/>\n",
              "  </svg>\n",
              "      </button>\n",
              "      \n",
              "  <style>\n",
              "    .colab-df-container {\n",
              "      display:flex;\n",
              "      flex-wrap:wrap;\n",
              "      gap: 12px;\n",
              "    }\n",
              "\n",
              "    .colab-df-convert {\n",
              "      background-color: #E8F0FE;\n",
              "      border: none;\n",
              "      border-radius: 50%;\n",
              "      cursor: pointer;\n",
              "      display: none;\n",
              "      fill: #1967D2;\n",
              "      height: 32px;\n",
              "      padding: 0 0 0 0;\n",
              "      width: 32px;\n",
              "    }\n",
              "\n",
              "    .colab-df-convert:hover {\n",
              "      background-color: #E2EBFA;\n",
              "      box-shadow: 0px 1px 2px rgba(60, 64, 67, 0.3), 0px 1px 3px 1px rgba(60, 64, 67, 0.15);\n",
              "      fill: #174EA6;\n",
              "    }\n",
              "\n",
              "    [theme=dark] .colab-df-convert {\n",
              "      background-color: #3B4455;\n",
              "      fill: #D2E3FC;\n",
              "    }\n",
              "\n",
              "    [theme=dark] .colab-df-convert:hover {\n",
              "      background-color: #434B5C;\n",
              "      box-shadow: 0px 1px 3px 1px rgba(0, 0, 0, 0.15);\n",
              "      filter: drop-shadow(0px 1px 2px rgba(0, 0, 0, 0.3));\n",
              "      fill: #FFFFFF;\n",
              "    }\n",
              "  </style>\n",
              "\n",
              "      <script>\n",
              "        const buttonEl =\n",
              "          document.querySelector('#df-d3681c5b-f798-4dcf-b8f2-170ee07aeed5 button.colab-df-convert');\n",
              "        buttonEl.style.display =\n",
              "          google.colab.kernel.accessAllowed ? 'block' : 'none';\n",
              "\n",
              "        async function convertToInteractive(key) {\n",
              "          const element = document.querySelector('#df-d3681c5b-f798-4dcf-b8f2-170ee07aeed5');\n",
              "          const dataTable =\n",
              "            await google.colab.kernel.invokeFunction('convertToInteractive',\n",
              "                                                     [key], {});\n",
              "          if (!dataTable) return;\n",
              "\n",
              "          const docLinkHtml = 'Like what you see? Visit the ' +\n",
              "            '<a target=\"_blank\" href=https://colab.research.google.com/notebooks/data_table.ipynb>data table notebook</a>'\n",
              "            + ' to learn more about interactive tables.';\n",
              "          element.innerHTML = '';\n",
              "          dataTable['output_type'] = 'display_data';\n",
              "          await google.colab.output.renderOutput(dataTable, element);\n",
              "          const docLink = document.createElement('div');\n",
              "          docLink.innerHTML = docLinkHtml;\n",
              "          element.appendChild(docLink);\n",
              "        }\n",
              "      </script>\n",
              "    </div>\n",
              "  </div>\n",
              "  "
            ]
          },
          "metadata": {},
          "execution_count": 74
        }
      ]
    },
    {
      "cell_type": "markdown",
      "source": [
        "**Mudar os nomes da tabela para melhor visualização das mesmas**"
      ],
      "metadata": {
        "id": "J0rRQp6Af_Pg"
      }
    },
    {
      "cell_type": "code",
      "source": [
        "pat.rename(columns={'orgao_superior_codigo_siorg':'codigo','orgao_superior_nome':'orgao',\n",
        "                    'orgao_superior_sigla':'sigla','ano_mes_referencia':'mes_ref',\n",
        "                    'regime_utilizacao':'regime', 'tipo_destinacao':'destinacao',\n",
        "                    'municipio_nome':'municipio'}, inplace=True)\n",
        "\n",
        "pat.head()"
      ],
      "metadata": {
        "colab": {
          "base_uri": "https://localhost:8080/",
          "height": 635
        },
        "id": "03r0Ccn0gENZ",
        "outputId": "f4809966-f138-4a23-8f58-64fd6c02c77b"
      },
      "execution_count": null,
      "outputs": [
        {
          "output_type": "execute_result",
          "data": {
            "text/plain": [
              "   codigo                                              orgao sigla  \\\n",
              "0      14  MINISTÉRIO DA AGRICULTURA, PECUÁRIA E ABASTECI...  MAPA   \n",
              "1      14  MINISTÉRIO DA AGRICULTURA, PECUÁRIA E ABASTECI...  MAPA   \n",
              "2      14  MINISTÉRIO DA AGRICULTURA, PECUÁRIA E ABASTECI...  MAPA   \n",
              "3      14  MINISTÉRIO DA AGRICULTURA, PECUÁRIA E ABASTECI...  MAPA   \n",
              "4      14  MINISTÉRIO DA AGRICULTURA, PECUÁRIA E ABASTECI...  MAPA   \n",
              "\n",
              "   orgao_codigo_siorg                                         orgao_nome  \\\n",
              "0                  14  MINISTÉRIO DA AGRICULTURA, PECUÁRIA E ABASTECI...   \n",
              "1                  14  MINISTÉRIO DA AGRICULTURA, PECUÁRIA E ABASTECI...   \n",
              "2                  14  MINISTÉRIO DA AGRICULTURA, PECUÁRIA E ABASTECI...   \n",
              "3                  14  MINISTÉRIO DA AGRICULTURA, PECUÁRIA E ABASTECI...   \n",
              "4                  14  MINISTÉRIO DA AGRICULTURA, PECUÁRIA E ABASTECI...   \n",
              "\n",
              "  orgao_sigla                           orgao_como_no_raiox_nome  \\\n",
              "0        MAPA  MINISTÉRIO DA AGRICULTURA, PECUÁRIA E ABASTECI...   \n",
              "1        MAPA  MINISTÉRIO DA AGRICULTURA, PECUÁRIA E ABASTECI...   \n",
              "2        MAPA  MINISTÉRIO DA AGRICULTURA, PECUÁRIA E ABASTECI...   \n",
              "3        MAPA  MINISTÉRIO DA AGRICULTURA, PECUÁRIA E ABASTECI...   \n",
              "4        MAPA  MINISTÉRIO DA AGRICULTURA, PECUÁRIA E ABASTECI...   \n",
              "\n",
              "  orgao_como_no_raiox_sigla  mes_ref                                   regime  \\\n",
              "0                      MAPA   202203  CESSÃO - ADMINISTRAÇÃO FEDERAL INDIRETA   \n",
              "1                      MAPA   202203                          CESSÃO - OUTROS   \n",
              "2                      MAPA   202203                EM REGULARIZAÇÃO - CESSÃO   \n",
              "3                      MAPA   202203                EM REGULARIZAÇÃO - CESSÃO   \n",
              "4                      MAPA   202203                EM REGULARIZAÇÃO - CESSÃO   \n",
              "\n",
              "          destinacao                                           endereco  \\\n",
              "0              Porto  R REPUBLICA DO EQUADOR s/nº Confronta Com a Ru...   \n",
              "1  Edifício / Prédio                   ETA João Batista de Almeida s/n    \n",
              "2            Açude    FAZ Dona Justa (Pitomba) s/n Corpo Hídrico UHE...   \n",
              "3            Açude                RCH Manezim s/n UHE Cachoeira Dourada   \n",
              "4  Edifício / Prédio                            AV Antonio Bismark s/n    \n",
              "\n",
              "              municipio  municipio_cod_ibge   uf  metro_quadrado_area  \\\n",
              "0                SANTOS             3548500  SP                956.75   \n",
              "1            DIAMANTINO             5103502  MT                820.00   \n",
              "2  MORADA NOVA DE MINAS             3143500  MG              52040.00   \n",
              "3     CACHOEIRA DOURADA             3109808  MG              37360.00   \n",
              "4               PRAINHA             1506005  PA               1200.00   \n",
              "\n",
              "   metro_quadrado_construida  valor_imovel  valor_aluguel  \n",
              "0                        NaN    3370000.00            0.0  \n",
              "1                      22.08      72796.98            0.0  \n",
              "2                        NaN      52040.00            0.0  \n",
              "3                        NaN      37360.00            0.0  \n",
              "4                     246.85      69790.05            0.0  "
            ],
            "text/html": [
              "\n",
              "  <div id=\"df-4959c493-c304-4813-92d8-b5277729388d\">\n",
              "    <div class=\"colab-df-container\">\n",
              "      <div>\n",
              "<style scoped>\n",
              "    .dataframe tbody tr th:only-of-type {\n",
              "        vertical-align: middle;\n",
              "    }\n",
              "\n",
              "    .dataframe tbody tr th {\n",
              "        vertical-align: top;\n",
              "    }\n",
              "\n",
              "    .dataframe thead th {\n",
              "        text-align: right;\n",
              "    }\n",
              "</style>\n",
              "<table border=\"1\" class=\"dataframe\">\n",
              "  <thead>\n",
              "    <tr style=\"text-align: right;\">\n",
              "      <th></th>\n",
              "      <th>codigo</th>\n",
              "      <th>orgao</th>\n",
              "      <th>sigla</th>\n",
              "      <th>orgao_codigo_siorg</th>\n",
              "      <th>orgao_nome</th>\n",
              "      <th>orgao_sigla</th>\n",
              "      <th>orgao_como_no_raiox_nome</th>\n",
              "      <th>orgao_como_no_raiox_sigla</th>\n",
              "      <th>mes_ref</th>\n",
              "      <th>regime</th>\n",
              "      <th>destinacao</th>\n",
              "      <th>endereco</th>\n",
              "      <th>municipio</th>\n",
              "      <th>municipio_cod_ibge</th>\n",
              "      <th>uf</th>\n",
              "      <th>metro_quadrado_area</th>\n",
              "      <th>metro_quadrado_construida</th>\n",
              "      <th>valor_imovel</th>\n",
              "      <th>valor_aluguel</th>\n",
              "    </tr>\n",
              "  </thead>\n",
              "  <tbody>\n",
              "    <tr>\n",
              "      <th>0</th>\n",
              "      <td>14</td>\n",
              "      <td>MINISTÉRIO DA AGRICULTURA, PECUÁRIA E ABASTECI...</td>\n",
              "      <td>MAPA</td>\n",
              "      <td>14</td>\n",
              "      <td>MINISTÉRIO DA AGRICULTURA, PECUÁRIA E ABASTECI...</td>\n",
              "      <td>MAPA</td>\n",
              "      <td>MINISTÉRIO DA AGRICULTURA, PECUÁRIA E ABASTECI...</td>\n",
              "      <td>MAPA</td>\n",
              "      <td>202203</td>\n",
              "      <td>CESSÃO - ADMINISTRAÇÃO FEDERAL INDIRETA</td>\n",
              "      <td>Porto</td>\n",
              "      <td>R REPUBLICA DO EQUADOR s/nº Confronta Com a Ru...</td>\n",
              "      <td>SANTOS</td>\n",
              "      <td>3548500</td>\n",
              "      <td>SP</td>\n",
              "      <td>956.75</td>\n",
              "      <td>NaN</td>\n",
              "      <td>3370000.00</td>\n",
              "      <td>0.0</td>\n",
              "    </tr>\n",
              "    <tr>\n",
              "      <th>1</th>\n",
              "      <td>14</td>\n",
              "      <td>MINISTÉRIO DA AGRICULTURA, PECUÁRIA E ABASTECI...</td>\n",
              "      <td>MAPA</td>\n",
              "      <td>14</td>\n",
              "      <td>MINISTÉRIO DA AGRICULTURA, PECUÁRIA E ABASTECI...</td>\n",
              "      <td>MAPA</td>\n",
              "      <td>MINISTÉRIO DA AGRICULTURA, PECUÁRIA E ABASTECI...</td>\n",
              "      <td>MAPA</td>\n",
              "      <td>202203</td>\n",
              "      <td>CESSÃO - OUTROS</td>\n",
              "      <td>Edifício / Prédio</td>\n",
              "      <td>ETA João Batista de Almeida s/n</td>\n",
              "      <td>DIAMANTINO</td>\n",
              "      <td>5103502</td>\n",
              "      <td>MT</td>\n",
              "      <td>820.00</td>\n",
              "      <td>22.08</td>\n",
              "      <td>72796.98</td>\n",
              "      <td>0.0</td>\n",
              "    </tr>\n",
              "    <tr>\n",
              "      <th>2</th>\n",
              "      <td>14</td>\n",
              "      <td>MINISTÉRIO DA AGRICULTURA, PECUÁRIA E ABASTECI...</td>\n",
              "      <td>MAPA</td>\n",
              "      <td>14</td>\n",
              "      <td>MINISTÉRIO DA AGRICULTURA, PECUÁRIA E ABASTECI...</td>\n",
              "      <td>MAPA</td>\n",
              "      <td>MINISTÉRIO DA AGRICULTURA, PECUÁRIA E ABASTECI...</td>\n",
              "      <td>MAPA</td>\n",
              "      <td>202203</td>\n",
              "      <td>EM REGULARIZAÇÃO - CESSÃO</td>\n",
              "      <td>Açude</td>\n",
              "      <td>FAZ Dona Justa (Pitomba) s/n Corpo Hídrico UHE...</td>\n",
              "      <td>MORADA NOVA DE MINAS</td>\n",
              "      <td>3143500</td>\n",
              "      <td>MG</td>\n",
              "      <td>52040.00</td>\n",
              "      <td>NaN</td>\n",
              "      <td>52040.00</td>\n",
              "      <td>0.0</td>\n",
              "    </tr>\n",
              "    <tr>\n",
              "      <th>3</th>\n",
              "      <td>14</td>\n",
              "      <td>MINISTÉRIO DA AGRICULTURA, PECUÁRIA E ABASTECI...</td>\n",
              "      <td>MAPA</td>\n",
              "      <td>14</td>\n",
              "      <td>MINISTÉRIO DA AGRICULTURA, PECUÁRIA E ABASTECI...</td>\n",
              "      <td>MAPA</td>\n",
              "      <td>MINISTÉRIO DA AGRICULTURA, PECUÁRIA E ABASTECI...</td>\n",
              "      <td>MAPA</td>\n",
              "      <td>202203</td>\n",
              "      <td>EM REGULARIZAÇÃO - CESSÃO</td>\n",
              "      <td>Açude</td>\n",
              "      <td>RCH Manezim s/n UHE Cachoeira Dourada</td>\n",
              "      <td>CACHOEIRA DOURADA</td>\n",
              "      <td>3109808</td>\n",
              "      <td>MG</td>\n",
              "      <td>37360.00</td>\n",
              "      <td>NaN</td>\n",
              "      <td>37360.00</td>\n",
              "      <td>0.0</td>\n",
              "    </tr>\n",
              "    <tr>\n",
              "      <th>4</th>\n",
              "      <td>14</td>\n",
              "      <td>MINISTÉRIO DA AGRICULTURA, PECUÁRIA E ABASTECI...</td>\n",
              "      <td>MAPA</td>\n",
              "      <td>14</td>\n",
              "      <td>MINISTÉRIO DA AGRICULTURA, PECUÁRIA E ABASTECI...</td>\n",
              "      <td>MAPA</td>\n",
              "      <td>MINISTÉRIO DA AGRICULTURA, PECUÁRIA E ABASTECI...</td>\n",
              "      <td>MAPA</td>\n",
              "      <td>202203</td>\n",
              "      <td>EM REGULARIZAÇÃO - CESSÃO</td>\n",
              "      <td>Edifício / Prédio</td>\n",
              "      <td>AV Antonio Bismark s/n</td>\n",
              "      <td>PRAINHA</td>\n",
              "      <td>1506005</td>\n",
              "      <td>PA</td>\n",
              "      <td>1200.00</td>\n",
              "      <td>246.85</td>\n",
              "      <td>69790.05</td>\n",
              "      <td>0.0</td>\n",
              "    </tr>\n",
              "  </tbody>\n",
              "</table>\n",
              "</div>\n",
              "      <button class=\"colab-df-convert\" onclick=\"convertToInteractive('df-4959c493-c304-4813-92d8-b5277729388d')\"\n",
              "              title=\"Convert this dataframe to an interactive table.\"\n",
              "              style=\"display:none;\">\n",
              "        \n",
              "  <svg xmlns=\"http://www.w3.org/2000/svg\" height=\"24px\"viewBox=\"0 0 24 24\"\n",
              "       width=\"24px\">\n",
              "    <path d=\"M0 0h24v24H0V0z\" fill=\"none\"/>\n",
              "    <path d=\"M18.56 5.44l.94 2.06.94-2.06 2.06-.94-2.06-.94-.94-2.06-.94 2.06-2.06.94zm-11 1L8.5 8.5l.94-2.06 2.06-.94-2.06-.94L8.5 2.5l-.94 2.06-2.06.94zm10 10l.94 2.06.94-2.06 2.06-.94-2.06-.94-.94-2.06-.94 2.06-2.06.94z\"/><path d=\"M17.41 7.96l-1.37-1.37c-.4-.4-.92-.59-1.43-.59-.52 0-1.04.2-1.43.59L10.3 9.45l-7.72 7.72c-.78.78-.78 2.05 0 2.83L4 21.41c.39.39.9.59 1.41.59.51 0 1.02-.2 1.41-.59l7.78-7.78 2.81-2.81c.8-.78.8-2.07 0-2.86zM5.41 20L4 18.59l7.72-7.72 1.47 1.35L5.41 20z\"/>\n",
              "  </svg>\n",
              "      </button>\n",
              "      \n",
              "  <style>\n",
              "    .colab-df-container {\n",
              "      display:flex;\n",
              "      flex-wrap:wrap;\n",
              "      gap: 12px;\n",
              "    }\n",
              "\n",
              "    .colab-df-convert {\n",
              "      background-color: #E8F0FE;\n",
              "      border: none;\n",
              "      border-radius: 50%;\n",
              "      cursor: pointer;\n",
              "      display: none;\n",
              "      fill: #1967D2;\n",
              "      height: 32px;\n",
              "      padding: 0 0 0 0;\n",
              "      width: 32px;\n",
              "    }\n",
              "\n",
              "    .colab-df-convert:hover {\n",
              "      background-color: #E2EBFA;\n",
              "      box-shadow: 0px 1px 2px rgba(60, 64, 67, 0.3), 0px 1px 3px 1px rgba(60, 64, 67, 0.15);\n",
              "      fill: #174EA6;\n",
              "    }\n",
              "\n",
              "    [theme=dark] .colab-df-convert {\n",
              "      background-color: #3B4455;\n",
              "      fill: #D2E3FC;\n",
              "    }\n",
              "\n",
              "    [theme=dark] .colab-df-convert:hover {\n",
              "      background-color: #434B5C;\n",
              "      box-shadow: 0px 1px 3px 1px rgba(0, 0, 0, 0.15);\n",
              "      filter: drop-shadow(0px 1px 2px rgba(0, 0, 0, 0.3));\n",
              "      fill: #FFFFFF;\n",
              "    }\n",
              "  </style>\n",
              "\n",
              "      <script>\n",
              "        const buttonEl =\n",
              "          document.querySelector('#df-4959c493-c304-4813-92d8-b5277729388d button.colab-df-convert');\n",
              "        buttonEl.style.display =\n",
              "          google.colab.kernel.accessAllowed ? 'block' : 'none';\n",
              "\n",
              "        async function convertToInteractive(key) {\n",
              "          const element = document.querySelector('#df-4959c493-c304-4813-92d8-b5277729388d');\n",
              "          const dataTable =\n",
              "            await google.colab.kernel.invokeFunction('convertToInteractive',\n",
              "                                                     [key], {});\n",
              "          if (!dataTable) return;\n",
              "\n",
              "          const docLinkHtml = 'Like what you see? Visit the ' +\n",
              "            '<a target=\"_blank\" href=https://colab.research.google.com/notebooks/data_table.ipynb>data table notebook</a>'\n",
              "            + ' to learn more about interactive tables.';\n",
              "          element.innerHTML = '';\n",
              "          dataTable['output_type'] = 'display_data';\n",
              "          await google.colab.output.renderOutput(dataTable, element);\n",
              "          const docLink = document.createElement('div');\n",
              "          docLink.innerHTML = docLinkHtml;\n",
              "          element.appendChild(docLink);\n",
              "        }\n",
              "      </script>\n",
              "    </div>\n",
              "  </div>\n",
              "  "
            ]
          },
          "metadata": {},
          "execution_count": 75
        }
      ]
    },
    {
      "cell_type": "markdown",
      "source": [
        "**Quantidade de linhas e colunas**"
      ],
      "metadata": {
        "id": "zjX9WS7FeMH7"
      }
    },
    {
      "cell_type": "code",
      "source": [
        "pat.shape"
      ],
      "metadata": {
        "colab": {
          "base_uri": "https://localhost:8080/"
        },
        "id": "yfy2F1fUeHBH",
        "outputId": "11eb3c43-f745-4b19-f6e8-ba10dcc1fda5"
      },
      "execution_count": null,
      "outputs": [
        {
          "output_type": "execute_result",
          "data": {
            "text/plain": [
              "(54695, 19)"
            ]
          },
          "metadata": {},
          "execution_count": 76
        }
      ]
    },
    {
      "cell_type": "markdown",
      "source": [
        "**Agrupar os dados**\n",
        "\n",
        "Quantidade de imóveis por órgão\n"
      ],
      "metadata": {
        "id": "rK8tAViReir3"
      }
    },
    {
      "cell_type": "code",
      "source": [
        "agrupar = pat.groupby(['orgao']).size()\n",
        "agrupar"
      ],
      "metadata": {
        "colab": {
          "base_uri": "https://localhost:8080/"
        },
        "id": "CQFpOkJFelHN",
        "outputId": "b63de0e7-6948-481c-a5f1-48a3bf148b84"
      },
      "execution_count": null,
      "outputs": [
        {
          "output_type": "execute_result",
          "data": {
            "text/plain": [
              "orgao\n",
              "ADVOCACIA-GERAL DA UNIÃO                                     157\n",
              "CONTROLADORIA-GERAL DA UNIÃO                                  19\n",
              "MINISTÉRIO DA AGRICULTURA, PECUÁRIA E ABASTECIMENTO        10944\n",
              "MINISTÉRIO DA CIDADANIA                                        7\n",
              "MINISTÉRIO DA CIÊNCIA, TECNOLOGIA E INOVAÇÕES                 80\n",
              "MINISTÉRIO DA DEFESA                                       11557\n",
              "MINISTÉRIO DA ECONOMIA                                     18717\n",
              "MINISTÉRIO DA EDUCAÇÃO                                      6233\n",
              "MINISTÉRIO DA INFRAESTRUTURA                                1135\n",
              "MINISTÉRIO DA JUSTIÇA E SEGURANÇA PÚBLICA                   1582\n",
              "MINISTÉRIO DA MULHER, DA FAMÍLIA E DOS DIREITOS HUMANOS        8\n",
              "MINISTÉRIO DA SAÚDE                                         1467\n",
              "MINISTÉRIO DAS RELAÇÕES EXTERIORES                           171\n",
              "MINISTÉRIO DE MINAS E ENERGIA                                 63\n",
              "MINISTÉRIO DO DESENVOLVIMENTO REGIONAL                       849\n",
              "MINISTÉRIO DO MEIO AMBIENTE                                 1136\n",
              "MINISTÉRIO DO TRABALHO E PREVIDÊNCIA                         257\n",
              "MINISTÉRIO DO TURISMO                                        178\n",
              "PRESIDÊNCIA DA REPÚBLICA                                     135\n",
              "dtype: int64"
            ]
          },
          "metadata": {},
          "execution_count": 77
        }
      ]
    },
    {
      "cell_type": "markdown",
      "source": [
        "**Agrupar os dados **\n",
        "\n"
      ],
      "metadata": {
        "id": "XtBHEQ9w37AZ"
      }
    },
    {
      "cell_type": "code",
      "source": [
        "agrupar2= pat.groupby(['destinacao', 'orgao']).size()\n",
        "agrupar2"
      ],
      "metadata": {
        "colab": {
          "base_uri": "https://localhost:8080/"
        },
        "id": "6VMK_nCJ3zyf",
        "outputId": "954c43ba-3cd4-45f8-e807-433b7af2cf62"
      },
      "execution_count": null,
      "outputs": [
        {
          "output_type": "execute_result",
          "data": {
            "text/plain": [
              "destinacao  orgao                                    \n",
              "Aeroporto   MINISTÉRIO DA DEFESA                          166\n",
              "            MINISTÉRIO DA ECONOMIA                       2633\n",
              "            MINISTÉRIO DA INFRAESTRUTURA                   37\n",
              "            MINISTÉRIO DA JUSTIÇA E SEGURANÇA PÚBLICA       1\n",
              "Aeródromo   MINISTÉRIO DA DEFESA                           17\n",
              "                                                         ... \n",
              "Usina       MINISTÉRIO DA DEFESA                            1\n",
              "            MINISTÉRIO DA ECONOMIA                         21\n",
              "            MINISTÉRIO DA EDUCAÇÃO                          1\n",
              "Via Férrea  MINISTÉRIO DA ECONOMIA                         17\n",
              "            MINISTÉRIO DA INFRAESTRUTURA                    5\n",
              "Length: 386, dtype: int64"
            ]
          },
          "metadata": {},
          "execution_count": 78
        }
      ]
    },
    {
      "cell_type": "markdown",
      "source": [
        "**Verificar nulos e somar**"
      ],
      "metadata": {
        "id": "BMkw5zPhp2O3"
      }
    },
    {
      "cell_type": "code",
      "source": [
        "pat.isnull().sum()"
      ],
      "metadata": {
        "colab": {
          "base_uri": "https://localhost:8080/"
        },
        "id": "75EH_e4qp7L_",
        "outputId": "0e3cb4ee-a2f9-4de0-c142-d2fc5c414884"
      },
      "execution_count": null,
      "outputs": [
        {
          "output_type": "execute_result",
          "data": {
            "text/plain": [
              "codigo                           0\n",
              "orgao                            0\n",
              "sigla                            0\n",
              "orgao_codigo_siorg               0\n",
              "orgao_nome                       0\n",
              "orgao_sigla                      0\n",
              "orgao_como_no_raiox_nome         0\n",
              "orgao_como_no_raiox_sigla        0\n",
              "mes_ref                          0\n",
              "regime                           0\n",
              "destinacao                       0\n",
              "endereco                         0\n",
              "municipio                        0\n",
              "municipio_cod_ibge               0\n",
              "uf                               0\n",
              "metro_quadrado_area              0\n",
              "metro_quadrado_construida    22387\n",
              "valor_imovel                     0\n",
              "valor_aluguel                    0\n",
              "dtype: int64"
            ]
          },
          "metadata": {},
          "execution_count": 79
        }
      ]
    },
    {
      "cell_type": "markdown",
      "source": [
        "**Correção de erros achados na analise acima**"
      ],
      "metadata": {
        "id": "FDWzyEHJrkIk"
      }
    },
    {
      "cell_type": "code",
      "source": [
        "pat['metro_quadrado_construida'].describe()"
      ],
      "metadata": {
        "colab": {
          "base_uri": "https://localhost:8080/"
        },
        "id": "s8xqdP2ErrgF",
        "outputId": "fac52e56-b337-495b-97ce-7ccb617c3d52"
      },
      "execution_count": null,
      "outputs": [
        {
          "output_type": "execute_result",
          "data": {
            "text/plain": [
              "count    3.230800e+04\n",
              "mean     3.343478e+09\n",
              "std      4.248622e+11\n",
              "min      0.000000e+00\n",
              "25%      1.000000e+02\n",
              "50%      1.820000e+02\n",
              "75%      5.742350e+02\n",
              "max      5.400018e+13\n",
              "Name: metro_quadrado_construida, dtype: float64"
            ]
          },
          "metadata": {},
          "execution_count": 80
        }
      ]
    },
    {
      "cell_type": "markdown",
      "source": [
        "**Calcular a mediana**"
      ],
      "metadata": {
        "id": "ShYncy-3zCta"
      }
    },
    {
      "cell_type": "code",
      "source": [
        "mediana = sts.median(pat['metro_quadrado_construida'])\n",
        "mediana"
      ],
      "metadata": {
        "colab": {
          "base_uri": "https://localhost:8080/"
        },
        "id": "xFuUg2LBzOwX",
        "outputId": "b1e8117d-ced9-42cf-f3c6-cab7da39183e"
      },
      "execution_count": null,
      "outputs": [
        {
          "output_type": "execute_result",
          "data": {
            "text/plain": [
              "154.81"
            ]
          },
          "metadata": {},
          "execution_count": 81
        }
      ]
    },
    {
      "cell_type": "markdown",
      "source": [
        "**Substituir o valor NaN pela mediana**"
      ],
      "metadata": {
        "id": "SyhPxccYzFWL"
      }
    },
    {
      "cell_type": "code",
      "source": [
        "pat['metro_quadrado_construida'].fillna(mediana, inplace=True)"
      ],
      "metadata": {
        "id": "lHN88QmRzODa"
      },
      "execution_count": null,
      "outputs": []
    },
    {
      "cell_type": "markdown",
      "source": [
        "**verificando novamente os null**"
      ],
      "metadata": {
        "id": "E2fvAacU0Plc"
      }
    },
    {
      "cell_type": "code",
      "source": [
        "pat.isnull().sum()"
      ],
      "metadata": {
        "colab": {
          "base_uri": "https://localhost:8080/"
        },
        "id": "ePvh2BLV0Ta-",
        "outputId": "685493cd-4f70-4f1e-86a5-7035582543fe"
      },
      "execution_count": null,
      "outputs": [
        {
          "output_type": "execute_result",
          "data": {
            "text/plain": [
              "codigo                       0\n",
              "orgao                        0\n",
              "sigla                        0\n",
              "orgao_codigo_siorg           0\n",
              "orgao_nome                   0\n",
              "orgao_sigla                  0\n",
              "orgao_como_no_raiox_nome     0\n",
              "orgao_como_no_raiox_sigla    0\n",
              "mes_ref                      0\n",
              "regime                       0\n",
              "destinacao                   0\n",
              "endereco                     0\n",
              "municipio                    0\n",
              "municipio_cod_ibge           0\n",
              "uf                           0\n",
              "metro_quadrado_area          0\n",
              "metro_quadrado_construida    0\n",
              "valor_imovel                 0\n",
              "valor_aluguel                0\n",
              "dtype: int64"
            ]
          },
          "metadata": {},
          "execution_count": 83
        }
      ]
    },
    {
      "cell_type": "markdown",
      "source": [
        "**Tirando a mediana do aluguel**"
      ],
      "metadata": {
        "id": "1BL9rOsXn7xE"
      }
    },
    {
      "cell_type": "code",
      "source": [
        "mediana = sts.median(pat['valor_aluguel'])\n",
        "mediana"
      ],
      "metadata": {
        "colab": {
          "base_uri": "https://localhost:8080/"
        },
        "id": "A3j7L5R_n_T6",
        "outputId": "6406e093-5663-4394-ac59-040369362e36"
      },
      "execution_count": null,
      "outputs": [
        {
          "output_type": "execute_result",
          "data": {
            "text/plain": [
              "0.0"
            ]
          },
          "metadata": {},
          "execution_count": 84
        }
      ]
    },
    {
      "cell_type": "markdown",
      "source": [
        "**substituir o valor NaN pela mediana**"
      ],
      "metadata": {
        "id": "-JQ-3oXzoJGR"
      }
    },
    {
      "cell_type": "code",
      "source": [
        "pat['valor_aluguel'].fillna(mediana, inplace=True)"
      ],
      "metadata": {
        "id": "dVIpNdDyoNc1"
      },
      "execution_count": null,
      "outputs": []
    },
    {
      "cell_type": "code",
      "source": [
        "pat.isnull().sum()"
      ],
      "metadata": {
        "colab": {
          "base_uri": "https://localhost:8080/"
        },
        "id": "2sB6iy7AoVcp",
        "outputId": "554a1abe-a72f-4210-ba43-81b5cb36d418"
      },
      "execution_count": null,
      "outputs": [
        {
          "output_type": "execute_result",
          "data": {
            "text/plain": [
              "codigo                       0\n",
              "orgao                        0\n",
              "sigla                        0\n",
              "orgao_codigo_siorg           0\n",
              "orgao_nome                   0\n",
              "orgao_sigla                  0\n",
              "orgao_como_no_raiox_nome     0\n",
              "orgao_como_no_raiox_sigla    0\n",
              "mes_ref                      0\n",
              "regime                       0\n",
              "destinacao                   0\n",
              "endereco                     0\n",
              "municipio                    0\n",
              "municipio_cod_ibge           0\n",
              "uf                           0\n",
              "metro_quadrado_area          0\n",
              "metro_quadrado_construida    0\n",
              "valor_imovel                 0\n",
              "valor_aluguel                0\n",
              "dtype: int64"
            ]
          },
          "metadata": {},
          "execution_count": 86
        }
      ]
    },
    {
      "cell_type": "markdown",
      "source": [
        "*Quantidade de imóveis por órgão* "
      ],
      "metadata": {
        "id": "nhXM69Th4LIr"
      }
    },
    {
      "cell_type": "code",
      "source": [
        "agrupar.plot.bar(color='blue')"
      ],
      "metadata": {
        "colab": {
          "base_uri": "https://localhost:8080/",
          "height": 604
        },
        "id": "MouhBk9B2iD9",
        "outputId": "e51db23e-134e-48bd-a172-b4e69ea567f7"
      },
      "execution_count": null,
      "outputs": [
        {
          "output_type": "execute_result",
          "data": {
            "text/plain": [
              "<matplotlib.axes._subplots.AxesSubplot at 0x7f00759b6190>"
            ]
          },
          "metadata": {},
          "execution_count": 87
        },
        {
          "output_type": "display_data",
          "data": {
            "text/plain": [
              "<Figure size 432x288 with 1 Axes>"
            ],
            "image/png": "[encoded data removed]"
          },
          "metadata": {
            "needs_background": "light"
          }
        }
      ]
    },
    {
      "cell_type": "markdown",
      "source": [
        "**AMOSTRAGEM SIMPLES**"
      ],
      "metadata": {
        "id": "ZQTYqqiE2syU"
      }
    },
    {
      "cell_type": "code",
      "source": [
        "pat.head()"
      ],
      "metadata": {
        "colab": {
          "base_uri": "https://localhost:8080/",
          "height": 646
        },
        "id": "N4YAY58X2vXb",
        "outputId": "53e29112-be1f-459d-d31d-8327b7fb90cc"
      },
      "execution_count": null,
      "outputs": [
        {
          "output_type": "execute_result",
          "data": {
            "text/plain": [
              "   codigo                                              orgao sigla  \\\n",
              "0      14  MINISTÉRIO DA AGRICULTURA, PECUÁRIA E ABASTECI...  MAPA   \n",
              "1      14  MINISTÉRIO DA AGRICULTURA, PECUÁRIA E ABASTECI...  MAPA   \n",
              "2      14  MINISTÉRIO DA AGRICULTURA, PECUÁRIA E ABASTECI...  MAPA   \n",
              "3      14  MINISTÉRIO DA AGRICULTURA, PECUÁRIA E ABASTECI...  MAPA   \n",
              "4      14  MINISTÉRIO DA AGRICULTURA, PECUÁRIA E ABASTECI...  MAPA   \n",
              "\n",
              "   orgao_codigo_siorg                                         orgao_nome  \\\n",
              "0                  14  MINISTÉRIO DA AGRICULTURA, PECUÁRIA E ABASTECI...   \n",
              "1                  14  MINISTÉRIO DA AGRICULTURA, PECUÁRIA E ABASTECI...   \n",
              "2                  14  MINISTÉRIO DA AGRICULTURA, PECUÁRIA E ABASTECI...   \n",
              "3                  14  MINISTÉRIO DA AGRICULTURA, PECUÁRIA E ABASTECI...   \n",
              "4                  14  MINISTÉRIO DA AGRICULTURA, PECUÁRIA E ABASTECI...   \n",
              "\n",
              "  orgao_sigla                           orgao_como_no_raiox_nome  \\\n",
              "0        MAPA  MINISTÉRIO DA AGRICULTURA, PECUÁRIA E ABASTECI...   \n",
              "1        MAPA  MINISTÉRIO DA AGRICULTURA, PECUÁRIA E ABASTECI...   \n",
              "2        MAPA  MINISTÉRIO DA AGRICULTURA, PECUÁRIA E ABASTECI...   \n",
              "3        MAPA  MINISTÉRIO DA AGRICULTURA, PECUÁRIA E ABASTECI...   \n",
              "4        MAPA  MINISTÉRIO DA AGRICULTURA, PECUÁRIA E ABASTECI...   \n",
              "\n",
              "  orgao_como_no_raiox_sigla  mes_ref                                   regime  \\\n",
              "0                      MAPA   202203  CESSÃO - ADMINISTRAÇÃO FEDERAL INDIRETA   \n",
              "1                      MAPA   202203                          CESSÃO - OUTROS   \n",
              "2                      MAPA   202203                EM REGULARIZAÇÃO - CESSÃO   \n",
              "3                      MAPA   202203                EM REGULARIZAÇÃO - CESSÃO   \n",
              "4                      MAPA   202203                EM REGULARIZAÇÃO - CESSÃO   \n",
              "\n",
              "          destinacao                                           endereco  \\\n",
              "0              Porto  R REPUBLICA DO EQUADOR s/nº Confronta Com a Ru...   \n",
              "1  Edifício / Prédio                   ETA João Batista de Almeida s/n    \n",
              "2            Açude    FAZ Dona Justa (Pitomba) s/n Corpo Hídrico UHE...   \n",
              "3            Açude                RCH Manezim s/n UHE Cachoeira Dourada   \n",
              "4  Edifício / Prédio                            AV Antonio Bismark s/n    \n",
              "\n",
              "              municipio  municipio_cod_ibge   uf  metro_quadrado_area  \\\n",
              "0                SANTOS             3548500  SP                956.75   \n",
              "1            DIAMANTINO             5103502  MT                820.00   \n",
              "2  MORADA NOVA DE MINAS             3143500  MG              52040.00   \n",
              "3     CACHOEIRA DOURADA             3109808  MG              37360.00   \n",
              "4               PRAINHA             1506005  PA               1200.00   \n",
              "\n",
              "   metro_quadrado_construida  valor_imovel  valor_aluguel  \n",
              "0                     154.81    3370000.00            0.0  \n",
              "1                      22.08      72796.98            0.0  \n",
              "2                     154.81      52040.00            0.0  \n",
              "3                     154.81      37360.00            0.0  \n",
              "4                     246.85      69790.05            0.0  "
            ],
            "text/html": [
              "\n",
              "  <div id=\"df-00798cde-9ba1-4fed-9dab-326f20389287\">\n",
              "    <div class=\"colab-df-container\">\n",
              "      <div>\n",
              "<style scoped>\n",
              "    .dataframe tbody tr th:only-of-type {\n",
              "        vertical-align: middle;\n",
              "    }\n",
              "\n",
              "    .dataframe tbody tr th {\n",
              "        vertical-align: top;\n",
              "    }\n",
              "\n",
              "    .dataframe thead th {\n",
              "        text-align: right;\n",
              "    }\n",
              "</style>\n",
              "<table border=\"1\" class=\"dataframe\">\n",
              "  <thead>\n",
              "    <tr style=\"text-align: right;\">\n",
              "      <th></th>\n",
              "      <th>codigo</th>\n",
              "      <th>orgao</th>\n",
              "      <th>sigla</th>\n",
              "      <th>orgao_codigo_siorg</th>\n",
              "      <th>orgao_nome</th>\n",
              "      <th>orgao_sigla</th>\n",
              "      <th>orgao_como_no_raiox_nome</th>\n",
              "      <th>orgao_como_no_raiox_sigla</th>\n",
              "      <th>mes_ref</th>\n",
              "      <th>regime</th>\n",
              "      <th>destinacao</th>\n",
              "      <th>endereco</th>\n",
              "      <th>municipio</th>\n",
              "      <th>municipio_cod_ibge</th>\n",
              "      <th>uf</th>\n",
              "      <th>metro_quadrado_area</th>\n",
              "      <th>metro_quadrado_construida</th>\n",
              "      <th>valor_imovel</th>\n",
              "      <th>valor_aluguel</th>\n",
              "    </tr>\n",
              "  </thead>\n",
              "  <tbody>\n",
              "    <tr>\n",
              "      <th>0</th>\n",
              "      <td>14</td>\n",
              "      <td>MINISTÉRIO DA AGRICULTURA, PECUÁRIA E ABASTECI...</td>\n",
              "      <td>MAPA</td>\n",
              "      <td>14</td>\n",
              "      <td>MINISTÉRIO DA AGRICULTURA, PECUÁRIA E ABASTECI...</td>\n",
              "      <td>MAPA</td>\n",
              "      <td>MINISTÉRIO DA AGRICULTURA, PECUÁRIA E ABASTECI...</td>\n",
              "      <td>MAPA</td>\n",
              "      <td>202203</td>\n",
              "      <td>CESSÃO - ADMINISTRAÇÃO FEDERAL INDIRETA</td>\n",
              "      <td>Porto</td>\n",
              "      <td>R REPUBLICA DO EQUADOR s/nº Confronta Com a Ru...</td>\n",
              "      <td>SANTOS</td>\n",
              "      <td>3548500</td>\n",
              "      <td>SP</td>\n",
              "      <td>956.75</td>\n",
              "      <td>154.81</td>\n",
              "      <td>3370000.00</td>\n",
              "      <td>0.0</td>\n",
              "    </tr>\n",
              "    <tr>\n",
              "      <th>1</th>\n",
              "      <td>14</td>\n",
              "      <td>MINISTÉRIO DA AGRICULTURA, PECUÁRIA E ABASTECI...</td>\n",
              "      <td>MAPA</td>\n",
              "      <td>14</td>\n",
              "      <td>MINISTÉRIO DA AGRICULTURA, PECUÁRIA E ABASTECI...</td>\n",
              "      <td>MAPA</td>\n",
              "      <td>MINISTÉRIO DA AGRICULTURA, PECUÁRIA E ABASTECI...</td>\n",
              "      <td>MAPA</td>\n",
              "      <td>202203</td>\n",
              "      <td>CESSÃO - OUTROS</td>\n",
              "      <td>Edifício / Prédio</td>\n",
              "      <td>ETA João Batista de Almeida s/n</td>\n",
              "      <td>DIAMANTINO</td>\n",
              "      <td>5103502</td>\n",
              "      <td>MT</td>\n",
              "      <td>820.00</td>\n",
              "      <td>22.08</td>\n",
              "      <td>72796.98</td>\n",
              "      <td>0.0</td>\n",
              "    </tr>\n",
              "    <tr>\n",
              "      <th>2</th>\n",
              "      <td>14</td>\n",
              "      <td>MINISTÉRIO DA AGRICULTURA, PECUÁRIA E ABASTECI...</td>\n",
              "      <td>MAPA</td>\n",
              "      <td>14</td>\n",
              "      <td>MINISTÉRIO DA AGRICULTURA, PECUÁRIA E ABASTECI...</td>\n",
              "      <td>MAPA</td>\n",
              "      <td>MINISTÉRIO DA AGRICULTURA, PECUÁRIA E ABASTECI...</td>\n",
              "      <td>MAPA</td>\n",
              "      <td>202203</td>\n",
              "      <td>EM REGULARIZAÇÃO - CESSÃO</td>\n",
              "      <td>Açude</td>\n",
              "      <td>FAZ Dona Justa (Pitomba) s/n Corpo Hídrico UHE...</td>\n",
              "      <td>MORADA NOVA DE MINAS</td>\n",
              "      <td>3143500</td>\n",
              "      <td>MG</td>\n",
              "      <td>52040.00</td>\n",
              "      <td>154.81</td>\n",
              "      <td>52040.00</td>\n",
              "      <td>0.0</td>\n",
              "    </tr>\n",
              "    <tr>\n",
              "      <th>3</th>\n",
              "      <td>14</td>\n",
              "      <td>MINISTÉRIO DA AGRICULTURA, PECUÁRIA E ABASTECI...</td>\n",
              "      <td>MAPA</td>\n",
              "      <td>14</td>\n",
              "      <td>MINISTÉRIO DA AGRICULTURA, PECUÁRIA E ABASTECI...</td>\n",
              "      <td>MAPA</td>\n",
              "      <td>MINISTÉRIO DA AGRICULTURA, PECUÁRIA E ABASTECI...</td>\n",
              "      <td>MAPA</td>\n",
              "      <td>202203</td>\n",
              "      <td>EM REGULARIZAÇÃO - CESSÃO</td>\n",
              "      <td>Açude</td>\n",
              "      <td>RCH Manezim s/n UHE Cachoeira Dourada</td>\n",
              "      <td>CACHOEIRA DOURADA</td>\n",
              "      <td>3109808</td>\n",
              "      <td>MG</td>\n",
              "      <td>37360.00</td>\n",
              "      <td>154.81</td>\n",
              "      <td>37360.00</td>\n",
              "      <td>0.0</td>\n",
              "    </tr>\n",
              "    <tr>\n",
              "      <th>4</th>\n",
              "      <td>14</td>\n",
              "      <td>MINISTÉRIO DA AGRICULTURA, PECUÁRIA E ABASTECI...</td>\n",
              "      <td>MAPA</td>\n",
              "      <td>14</td>\n",
              "      <td>MINISTÉRIO DA AGRICULTURA, PECUÁRIA E ABASTECI...</td>\n",
              "      <td>MAPA</td>\n",
              "      <td>MINISTÉRIO DA AGRICULTURA, PECUÁRIA E ABASTECI...</td>\n",
              "      <td>MAPA</td>\n",
              "      <td>202203</td>\n",
              "      <td>EM REGULARIZAÇÃO - CESSÃO</td>\n",
              "      <td>Edifício / Prédio</td>\n",
              "      <td>AV Antonio Bismark s/n</td>\n",
              "      <td>PRAINHA</td>\n",
              "      <td>1506005</td>\n",
              "      <td>PA</td>\n",
              "      <td>1200.00</td>\n",
              "      <td>246.85</td>\n",
              "      <td>69790.05</td>\n",
              "      <td>0.0</td>\n",
              "    </tr>\n",
              "  </tbody>\n",
              "</table>\n",
              "</div>\n",
              "      <button class=\"colab-df-convert\" onclick=\"convertToInteractive('df-00798cde-9ba1-4fed-9dab-326f20389287')\"\n",
              "              title=\"Convert this dataframe to an interactive table.\"\n",
              "              style=\"display:none;\">\n",
              "        \n",
              "  <svg xmlns=\"http://www.w3.org/2000/svg\" height=\"24px\"viewBox=\"0 0 24 24\"\n",
              "       width=\"24px\">\n",
              "    <path d=\"M0 0h24v24H0V0z\" fill=\"none\"/>\n",
              "    <path d=\"M18.56 5.44l.94 2.06.94-2.06 2.06-.94-2.06-.94-.94-2.06-.94 2.06-2.06.94zm-11 1L8.5 8.5l.94-2.06 2.06-.94-2.06-.94L8.5 2.5l-.94 2.06-2.06.94zm10 10l.94 2.06.94-2.06 2.06-.94-2.06-.94-.94-2.06-.94 2.06-2.06.94z\"/><path d=\"M17.41 7.96l-1.37-1.37c-.4-.4-.92-.59-1.43-.59-.52 0-1.04.2-1.43.59L10.3 9.45l-7.72 7.72c-.78.78-.78 2.05 0 2.83L4 21.41c.39.39.9.59 1.41.59.51 0 1.02-.2 1.41-.59l7.78-7.78 2.81-2.81c.8-.78.8-2.07 0-2.86zM5.41 20L4 18.59l7.72-7.72 1.47 1.35L5.41 20z\"/>\n",
              "  </svg>\n",
              "      </button>\n",
              "      \n",
              "  <style>\n",
              "    .colab-df-container {\n",
              "      display:flex;\n",
              "      flex-wrap:wrap;\n",
              "      gap: 12px;\n",
              "    }\n",
              "\n",
              "    .colab-df-convert {\n",
              "      background-color: #E8F0FE;\n",
              "      border: none;\n",
              "      border-radius: 50%;\n",
              "      cursor: pointer;\n",
              "      display: none;\n",
              "      fill: #1967D2;\n",
              "      height: 32px;\n",
              "      padding: 0 0 0 0;\n",
              "      width: 32px;\n",
              "    }\n",
              "\n",
              "    .colab-df-convert:hover {\n",
              "      background-color: #E2EBFA;\n",
              "      box-shadow: 0px 1px 2px rgba(60, 64, 67, 0.3), 0px 1px 3px 1px rgba(60, 64, 67, 0.15);\n",
              "      fill: #174EA6;\n",
              "    }\n",
              "\n",
              "    [theme=dark] .colab-df-convert {\n",
              "      background-color: #3B4455;\n",
              "      fill: #D2E3FC;\n",
              "    }\n",
              "\n",
              "    [theme=dark] .colab-df-convert:hover {\n",
              "      background-color: #434B5C;\n",
              "      box-shadow: 0px 1px 3px 1px rgba(0, 0, 0, 0.15);\n",
              "      filter: drop-shadow(0px 1px 2px rgba(0, 0, 0, 0.3));\n",
              "      fill: #FFFFFF;\n",
              "    }\n",
              "  </style>\n",
              "\n",
              "      <script>\n",
              "        const buttonEl =\n",
              "          document.querySelector('#df-00798cde-9ba1-4fed-9dab-326f20389287 button.colab-df-convert');\n",
              "        buttonEl.style.display =\n",
              "          google.colab.kernel.accessAllowed ? 'block' : 'none';\n",
              "\n",
              "        async function convertToInteractive(key) {\n",
              "          const element = document.querySelector('#df-00798cde-9ba1-4fed-9dab-326f20389287');\n",
              "          const dataTable =\n",
              "            await google.colab.kernel.invokeFunction('convertToInteractive',\n",
              "                                                     [key], {});\n",
              "          if (!dataTable) return;\n",
              "\n",
              "          const docLinkHtml = 'Like what you see? Visit the ' +\n",
              "            '<a target=\"_blank\" href=https://colab.research.google.com/notebooks/data_table.ipynb>data table notebook</a>'\n",
              "            + ' to learn more about interactive tables.';\n",
              "          element.innerHTML = '';\n",
              "          dataTable['output_type'] = 'display_data';\n",
              "          await google.colab.output.renderOutput(dataTable, element);\n",
              "          const docLink = document.createElement('div');\n",
              "          docLink.innerHTML = docLinkHtml;\n",
              "          element.appendChild(docLink);\n",
              "        }\n",
              "      </script>\n",
              "    </div>\n",
              "  </div>\n",
              "  "
            ]
          },
          "metadata": {},
          "execution_count": 91
        }
      ]
    },
    {
      "cell_type": "code",
      "source": [
        "agrupar3 = pat.groupby(['valor_imovel']).size()\n",
        "agrupar3"
      ],
      "metadata": {
        "colab": {
          "base_uri": "https://localhost:8080/"
        },
        "id": "iZMuAHyS3Is1",
        "outputId": "99c51689-e2d0-4d74-c113-769063a54dbd"
      },
      "execution_count": null,
      "outputs": [
        {
          "output_type": "execute_result",
          "data": {
            "text/plain": [
              "valor_imovel\n",
              "0.000000e+00    1027\n",
              "1.000000e-02      13\n",
              "1.000000e+00      10\n",
              "1.250000e+00       1\n",
              "2.000000e+00       1\n",
              "                ... \n",
              "1.418156e+10       1\n",
              "2.068923e+10       1\n",
              "4.771466e+10       1\n",
              "1.013155e+11       1\n",
              "1.552513e+11       6\n",
              "Length: 36741, dtype: int64"
            ]
          },
          "metadata": {},
          "execution_count": 93
        }
      ]
    },
    {
      "cell_type": "code",
      "source": [
        "pat.shape"
      ],
      "metadata": {
        "colab": {
          "base_uri": "https://localhost:8080/"
        },
        "id": "j2gwKgEw4gab",
        "outputId": "fff8644b-cc77-4ccc-ef86-a2d29325fe71"
      },
      "execution_count": null,
      "outputs": [
        {
          "output_type": "execute_result",
          "data": {
            "text/plain": [
              "(54695, 19)"
            ]
          },
          "metadata": {},
          "execution_count": 94
        }
      ]
    },
    {
      "cell_type": "code",
      "source": [
        "np.random.seed(2345)\n",
        "amostras = np.random.choice(a=[0,1],size=1000, replace=True,\n",
        "                            p = [0.7,0.3])\n",
        "len(amostras)"
      ],
      "metadata": {
        "colab": {
          "base_uri": "https://localhost:8080/"
        },
        "id": "5mM2v3fc3T2M",
        "outputId": "1e54c1b9-9038-49b9-ffec-8e452e848599"
      },
      "execution_count": null,
      "outputs": [
        {
          "output_type": "execute_result",
          "data": {
            "text/plain": [
              "1000"
            ]
          },
          "metadata": {},
          "execution_count": 103
        }
      ]
    },
    {
      "cell_type": "code",
      "source": [
        "amostras"
      ],
      "metadata": {
        "colab": {
          "base_uri": "https://localhost:8080/"
        },
        "id": "ozIaeBv14nlE",
        "outputId": "1cc8d411-777d-4953-e99a-22259db326e8"
      },
      "execution_count": null,
      "outputs": [
        {
          "output_type": "execute_result",
          "data": {
            "text/plain": [
              "array([0, 0, 0, 0, 1, 0, 0, 0, 1, 0, 0, 1, 0, 1, 0, 0, 1, 0, 1, 1, 1, 0,\n",
              "       0, 1, 1, 1, 0, 1, 0, 0, 1, 0, 0, 1, 1, 0, 1, 0, 0, 0, 1, 0, 1, 0,\n",
              "       0, 0, 0, 0, 0, 0, 1, 1, 0, 0, 0, 0, 0, 0, 0, 0, 0, 1, 0, 0, 1, 0,\n",
              "       0, 1, 0, 0, 1, 0, 0, 0, 0, 1, 0, 1, 0, 0, 1, 1, 0, 0, 0, 0, 0, 0,\n",
              "       0, 0, 0, 0, 1, 0, 1, 1, 1, 1, 1, 1, 0, 0, 0, 0, 0, 0, 0, 0, 1, 0,\n",
              "       0, 0, 0, 0, 0, 0, 0, 0, 1, 0, 0, 0, 0, 0, 1, 1, 1, 0, 1, 0, 1, 1,\n",
              "       1, 0, 0, 0, 0, 0, 0, 0, 0, 1, 1, 0, 0, 1, 1, 0, 0, 1, 0, 1, 1, 1,\n",
              "       0, 0, 0, 1, 0, 0, 0, 0, 0, 1, 0, 1, 1, 0, 0, 1, 0, 1, 0, 0, 1, 0,\n",
              "       1, 1, 0, 0, 0, 0, 0, 1, 1, 0, 0, 0, 0, 0, 0, 0, 0, 0, 0, 0, 0, 1,\n",
              "       0, 1, 1, 0, 0, 0, 1, 1, 1, 0, 0, 0, 0, 0, 0, 0, 0, 0, 0, 1, 0, 1,\n",
              "       0, 0, 1, 1, 0, 0, 0, 1, 1, 0, 1, 1, 0, 0, 0, 0, 0, 0, 0, 0, 0, 0,\n",
              "       0, 0, 1, 1, 1, 1, 0, 0, 0, 1, 0, 0, 0, 0, 0, 0, 0, 0, 1, 0, 0, 0,\n",
              "       0, 0, 1, 1, 0, 0, 1, 0, 0, 1, 0, 0, 0, 0, 0, 1, 1, 1, 0, 0, 0, 0,\n",
              "       0, 0, 1, 1, 0, 0, 0, 0, 0, 0, 1, 0, 1, 0, 0, 0, 1, 0, 0, 1, 1, 1,\n",
              "       1, 1, 1, 1, 0, 0, 0, 0, 0, 0, 0, 1, 0, 0, 0, 0, 0, 0, 0, 0, 0, 0,\n",
              "       0, 1, 0, 1, 0, 0, 0, 1, 1, 1, 0, 0, 0, 1, 1, 0, 1, 0, 0, 0, 0, 0,\n",
              "       0, 0, 0, 0, 0, 0, 0, 0, 0, 0, 0, 1, 0, 0, 0, 0, 0, 0, 1, 0, 0, 0,\n",
              "       0, 0, 0, 0, 0, 0, 1, 1, 0, 0, 0, 1, 1, 1, 1, 1, 0, 0, 0, 1, 0, 0,\n",
              "       0, 0, 0, 0, 1, 0, 0, 0, 0, 0, 1, 0, 0, 0, 0, 0, 0, 0, 0, 0, 1, 1,\n",
              "       0, 1, 0, 0, 1, 0, 0, 1, 0, 0, 1, 0, 0, 0, 0, 0, 0, 1, 0, 1, 0, 0,\n",
              "       0, 0, 0, 0, 0, 0, 0, 0, 0, 0, 1, 0, 0, 0, 0, 0, 0, 1, 0, 0, 0, 1,\n",
              "       1, 1, 0, 1, 0, 0, 0, 0, 1, 0, 1, 1, 0, 0, 0, 0, 0, 0, 1, 1, 0, 1,\n",
              "       0, 0, 0, 1, 0, 0, 1, 0, 0, 0, 1, 0, 0, 1, 1, 0, 1, 0, 1, 1, 0, 0,\n",
              "       0, 0, 0, 0, 1, 0, 0, 1, 0, 0, 1, 1, 0, 1, 0, 0, 1, 0, 1, 1, 0, 0,\n",
              "       0, 1, 0, 0, 0, 0, 0, 0, 1, 0, 0, 0, 0, 0, 0, 1, 0, 0, 0, 0, 1, 0,\n",
              "       1, 0, 0, 0, 0, 0, 1, 0, 1, 0, 0, 0, 0, 1, 1, 1, 0, 1, 1, 1, 1, 1,\n",
              "       0, 0, 0, 0, 0, 0, 1, 1, 0, 0, 0, 0, 0, 0, 1, 0, 0, 1, 1, 0, 0, 0,\n",
              "       0, 0, 0, 1, 0, 0, 0, 0, 0, 1, 0, 0, 0, 0, 0, 1, 0, 0, 1, 0, 0, 1,\n",
              "       0, 1, 0, 0, 0, 0, 0, 1, 1, 0, 0, 1, 1, 1, 1, 0, 1, 1, 1, 1, 1, 0,\n",
              "       0, 1, 0, 0, 0, 0, 0, 0, 0, 1, 0, 1, 0, 0, 1, 0, 0, 0, 0, 1, 0, 0,\n",
              "       1, 0, 1, 0, 0, 0, 0, 0, 0, 1, 1, 1, 0, 1, 0, 0, 0, 0, 1, 0, 0, 0,\n",
              "       1, 1, 1, 0, 0, 0, 0, 0, 1, 0, 0, 0, 0, 0, 1, 1, 0, 0, 0, 0, 1, 0,\n",
              "       0, 1, 0, 0, 1, 0, 0, 0, 0, 1, 0, 0, 0, 0, 0, 1, 0, 0, 1, 0, 0, 0,\n",
              "       1, 0, 0, 1, 0, 0, 1, 1, 1, 0, 0, 1, 0, 0, 0, 0, 0, 0, 0, 0, 1, 1,\n",
              "       1, 0, 1, 0, 0, 0, 0, 0, 0, 1, 0, 0, 1, 1, 0, 0, 0, 0, 0, 1, 0, 1,\n",
              "       1, 0, 0, 0, 0, 0, 0, 0, 0, 0, 0, 1, 1, 0, 1, 0, 0, 0, 0, 0, 0, 1,\n",
              "       1, 0, 0, 0, 1, 0, 0, 0, 0, 0, 0, 0, 1, 0, 0, 0, 1, 1, 1, 0, 0, 0,\n",
              "       0, 1, 0, 0, 0, 0, 0, 0, 1, 0, 0, 0, 0, 1, 1, 1, 0, 1, 1, 1, 0, 1,\n",
              "       0, 1, 0, 1, 0, 1, 0, 0, 0, 0, 1, 1, 0, 1, 0, 1, 0, 0, 0, 0, 0, 0,\n",
              "       0, 0, 0, 0, 0, 0, 0, 0, 0, 0, 0, 1, 0, 1, 0, 1, 1, 0, 1, 0, 0, 1,\n",
              "       1, 0, 0, 0, 0, 0, 0, 0, 0, 0, 1, 0, 0, 1, 0, 0, 0, 1, 0, 1, 0, 0,\n",
              "       1, 1, 0, 1, 0, 1, 0, 0, 0, 0, 0, 1, 0, 1, 0, 1, 1, 1, 0, 0, 0, 1,\n",
              "       0, 0, 0, 0, 0, 1, 1, 0, 0, 1, 0, 0, 1, 0, 1, 0, 1, 0, 0, 1, 1, 0,\n",
              "       0, 0, 0, 0, 0, 0, 0, 0, 0, 1, 0, 0, 0, 0, 0, 0, 1, 0, 0, 1, 0, 1,\n",
              "       1, 0, 0, 0, 1, 0, 0, 0, 0, 0, 0, 0, 0, 0, 0, 1, 0, 1, 0, 1, 0, 1,\n",
              "       0, 0, 0, 1, 0, 0, 0, 0, 1, 0])"
            ]
          },
          "metadata": {},
          "execution_count": 104
        }
      ]
    }
  ]
}